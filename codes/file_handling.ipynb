{
 "cells": [
  {
   "cell_type": "markdown",
   "metadata": {},
   "source": [
    "opening a file and read a file\n"
   ]
  },
  {
   "cell_type": "code",
   "execution_count": 5,
   "metadata": {},
   "outputs": [
    {
     "data": {
      "text/plain": [
       "'hii\\nmy name is rajat '"
      ]
     },
     "execution_count": 5,
     "metadata": {},
     "output_type": "execute_result"
    }
   ],
   "source": [
    "f=open(\"new.txt\")\n",
    "f.read()"
   ]
  },
  {
   "cell_type": "markdown",
   "metadata": {},
   "source": [
    "write a file"
   ]
  },
  {
   "cell_type": "code",
   "execution_count": 8,
   "metadata": {},
   "outputs": [],
   "source": [
    "f=open(\"new.txt\",'w')\n",
    "f.write(\"iam a table tennis player\")\n",
    "f.close()\n"
   ]
  },
  {
   "cell_type": "code",
   "execution_count": 9,
   "metadata": {},
   "outputs": [
    {
     "data": {
      "text/plain": [
       "'iam a table tennis player'"
      ]
     },
     "execution_count": 9,
     "metadata": {},
     "output_type": "execute_result"
    }
   ],
   "source": [
    "f=open(\"new.txt\")\n",
    "f.read()"
   ]
  },
  {
   "cell_type": "markdown",
   "metadata": {},
   "source": [
    "append a file"
   ]
  },
  {
   "cell_type": "code",
   "execution_count": 15,
   "metadata": {},
   "outputs": [],
   "source": [
    "f=open(\"new.txt\",'a')\n",
    "f.write(\" i love the game very much\")\n",
    "f.close()"
   ]
  },
  {
   "cell_type": "code",
   "execution_count": 17,
   "metadata": {},
   "outputs": [
    {
     "data": {
      "text/plain": [
       "'iam a table tennis playeri love the game very much \\ni love the game very much i love the game very much'"
      ]
     },
     "execution_count": 17,
     "metadata": {},
     "output_type": "execute_result"
    }
   ],
   "source": [
    "f=open(\"new.txt\")\n",
    "f.read()"
   ]
  },
  {
   "cell_type": "code",
   "execution_count": 18,
   "metadata": {},
   "outputs": [
    {
     "data": {
      "text/plain": [
       "'iam a table tennis player i love the game very much \\n'"
      ]
     },
     "execution_count": 18,
     "metadata": {},
     "output_type": "execute_result"
    }
   ],
   "source": [
    "f=open(\"new.txt\")\n",
    "f.read()\n"
   ]
  },
  {
   "cell_type": "code",
   "execution_count": 21,
   "metadata": {},
   "outputs": [
    {
     "name": "stdout",
     "output_type": "stream",
     "text": [
      "iam a table tennis player i love the game very much \n",
      "\n"
     ]
    }
   ],
   "source": [
    "f=open(\"new.txt\")\n",
    "print(f.read())\n"
   ]
  },
  {
   "cell_type": "code",
   "execution_count": 20,
   "metadata": {},
   "outputs": [
    {
     "name": "stdout",
     "output_type": "stream",
     "text": [
      "The key function for working with files in Python is the open() function.\n",
      "\n",
      "The open() function takes two parameters; filename, and mode.\n",
      "\n",
      "There are four different methods (modes) for opening a file\n"
     ]
    }
   ],
   "source": [
    "f=open(\"sample.txt\")\n",
    "print(f.read())"
   ]
  },
  {
   "cell_type": "code",
   "execution_count": 30,
   "metadata": {},
   "outputs": [
    {
     "name": "stdout",
     "output_type": "stream",
     "text": [
      "The k\n",
      "ey functio\n",
      "n for\n"
     ]
    }
   ],
   "source": [
    "f=open(\"sample.txt\")\n",
    "print(f.read(5))  #reads only first 5 characters\n",
    "print(f.read(10)) #reads 10 char from 5th position\n",
    "f.tell()          # shows the current pointer\n",
    "f.seek(15)         #updates the current pointer\n",
    "print(f.read(5))   #reads 5 charcters from current pointer"
   ]
  },
  {
   "cell_type": "code",
   "execution_count": 31,
   "metadata": {},
   "outputs": [
    {
     "name": "stdout",
     "output_type": "stream",
     "text": [
      "The key function for working with files in Python is the open() function.\n",
      "\n",
      "\n",
      "\n",
      "The open() function takes two parameters; filename, and mode.\n",
      "\n",
      "\n",
      "\n",
      "There are four different methods (modes) for opening a file\n"
     ]
    }
   ],
   "source": [
    "f.seek(0)       #pointer pointing 0th location\n",
    "#reading lines using loop\n",
    "for x in f:     \n",
    "    print(x)"
   ]
  },
  {
   "cell_type": "code",
   "execution_count": 37,
   "metadata": {},
   "outputs": [
    {
     "data": {
      "text/plain": [
       "'The key function for work'"
      ]
     },
     "execution_count": 37,
     "metadata": {},
     "output_type": "execute_result"
    }
   ],
   "source": [
    "f=open(\"sample.txt\")\n",
    "#f.readline()  #reads only first line \n",
    "f.readline(25)  #reads 25 char of 1st line\n",
    "\n"
   ]
  },
  {
   "cell_type": "code",
   "execution_count": 40,
   "metadata": {},
   "outputs": [
    {
     "data": {
      "text/plain": [
       "['The key function for working with files in Python is the open() function.\\n',\n",
       " '\\n',\n",
       " 'The open() function takes two parameters; filename, and mode.\\n',\n",
       " '\\n',\n",
       " 'There are four different methods (modes) for opening a file']"
      ]
     },
     "execution_count": 40,
     "metadata": {},
     "output_type": "execute_result"
    }
   ],
   "source": [
    "f=open(\"sample.txt\")\n",
    "f.readlines()   #reads multiple lines"
   ]
  },
  {
   "cell_type": "code",
   "execution_count": 41,
   "metadata": {},
   "outputs": [],
   "source": [
    "f=open(\"rajat.txt\", 'a')    #append mode creates new file if not exist\n"
   ]
  },
  {
   "cell_type": "code",
   "execution_count": 46,
   "metadata": {},
   "outputs": [],
   "source": [
    "import os\n",
    "os.remove(\"rajat.txt\")     #removes existing file "
   ]
  },
  {
   "cell_type": "code",
   "execution_count": 51,
   "metadata": {},
   "outputs": [
    {
     "name": "stdout",
     "output_type": "stream",
     "text": [
      "the file does not exists\n"
     ]
    }
   ],
   "source": [
    "import os\n",
    "if os.path.exists(\"rajat2.txt\"):\n",
    "    os.remove(\"rajat2.txt\")\n",
    "else:\n",
    "    print(\"the file does not exists\")"
   ]
  }
 ],
 "metadata": {
  "kernelspec": {
   "display_name": "Python 3",
   "language": "python",
   "name": "python3"
  },
  "language_info": {
   "codemirror_mode": {
    "name": "ipython",
    "version": 3
   },
   "file_extension": ".py",
   "mimetype": "text/x-python",
   "name": "python",
   "nbconvert_exporter": "python",
   "pygments_lexer": "ipython3",
   "version": "3.12.1"
  }
 },
 "nbformat": 4,
 "nbformat_minor": 2
}
